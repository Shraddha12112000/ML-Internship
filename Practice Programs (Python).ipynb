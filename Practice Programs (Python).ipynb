{
 "cells": [
  {
   "cell_type": "raw",
   "id": "d4deb757",
   "metadata": {},
   "source": [
    "Name: Shraddha Gujar        Email: gujarsm19.meta@coep.ac.in                                 \n",
    "Contact No: 7219597653      College: College Of Engineering , Pune"
   ]
  },
  {
   "cell_type": "markdown",
   "id": "bc05d95e",
   "metadata": {},
   "source": [
    "# 1] A company decided to give bonus of 5% to employee if his/her year of service is more than 5 years. Ask user for their salary and year of service and print the net bonus amount."
   ]
  },
  {
   "cell_type": "code",
   "execution_count": 1,
   "id": "27f65e0b",
   "metadata": {},
   "outputs": [
    {
     "name": "stdout",
     "output_type": "stream",
     "text": [
      "******************Welcome**********************\n",
      "******Company Bonus Scheme For Employees*******\n",
      "Enter youe salary: 8000\n",
      "Enter number of years of your service: 8\n",
      "*******You are eligible for bonus*********\n",
      "Yay!! You got bonus of:  400.0\n"
     ]
    }
   ],
   "source": [
    "print(\"******************Welcome**********************\")\n",
    "print(\"******Company Bonus Scheme For Employees*******\")\n",
    "salary=input(\"Enter youe salary: \")\n",
    "year=int(input(\"Enter number of years of your service: \"))\n",
    "if year>5:\n",
    "    print(\"*******You are eligible for bonus*********\")\n",
    "    bonus=0.05 * int(salary)\n",
    "    print(\"Yay!! You got bonus of: \",bonus)\n",
    "else:\n",
    "    print(\"Sorry!! You are not eligible for bonus\")\n"
   ]
  },
  {
   "cell_type": "markdown",
   "id": "e7719cd0",
   "metadata": {},
   "source": [
    "# 2] A school has following rules for grading system: a. Below 25 - F b. 25 to 45 - E c. 45 to 50 - D d. 50 to 60 - C e. 60 to 80 - B f. Above 80 - A Ask user to enter marks and print the corresponding grade."
   ]
  },
  {
   "cell_type": "code",
   "execution_count": 5,
   "id": "60fa5d10",
   "metadata": {},
   "outputs": [
    {
     "name": "stdout",
     "output_type": "stream",
     "text": [
      "******************Welcome To Grading System**********************\n",
      "Enter Your Marks: 77\n",
      "Your Grade Is B\n"
     ]
    }
   ],
   "source": [
    "print(\"******************Welcome To Grading System**********************\")\n",
    "marks=int(input(\"Enter Your Marks: \"))\n",
    "if(marks>=80):\n",
    "    print(\"Your Grade Is A\")\n",
    "if(60<=marks<80):\n",
    "    print(\"Your Grade Is B\")\n",
    "if(50<=marks<60):\n",
    "    print(\"Your Grade Is C\")\n",
    "if(45<=marks<50):\n",
    "    print(\"Your Grade Is D\")\n",
    "if(25<=marks<45):\n",
    "    print(\"Your Grade Is E\")\n",
    "if(marks<25):\n",
    "    print(\"Your Grade Is F\")\n",
    "    \n"
   ]
  },
  {
   "cell_type": "markdown",
   "id": "171a94f4",
   "metadata": {},
   "source": [
    "# 3] A student will not be allowed to sit in exam if his/her attendence is less than 75%.                                                        Take following input from user                                                Number of classes held                                                       Number of classes attended.                                                      And print percentage of class attended"
   ]
  },
  {
   "cell_type": "code",
   "execution_count": 7,
   "id": "60aa28a3",
   "metadata": {},
   "outputs": [
    {
     "name": "stdout",
     "output_type": "stream",
     "text": [
      "Enter number of classes held: 56\n",
      "Enter number of classes attended: 55\n",
      "You are allowed to sit in exam\n",
      "Classes you have attended 98.21428571428571%\n"
     ]
    }
   ],
   "source": [
    "number_of_classes_held =int(input(\"Enter number of classes held: \"))\n",
    "number_of_classes_attended=int(input(\"Enter number of classes attended: \"))\n",
    "attendance=(number_of_classes_attended/number_of_classes_held)*100\n",
    "if(attendance<75):\n",
    "    print(\"You are not allowed to sit in exam\")\n",
    "    print(\"Classes you have attended \"+str(attendance)+\"%\")\n",
    "else:\n",
    "    print(\"You are allowed to sit in exam\")\n",
    "    print(\"Classes you have attended \"+str(attendance)+\"%\")"
   ]
  },
  {
   "cell_type": "markdown",
   "id": "217d6a04",
   "metadata": {},
   "source": [
    "# 4] Ask user to enter age, sex ( M or F ), marital status ( Y or N ) and then using following rules print their place of service.if employee is female, then she will work only in urban areas.if employee is a male and age is in between 20 to 40 then he may work in anywhere if employee is male and age is in between 40 t0 60 then he will work in urban areas only.And any other input of age should print \"ERROR\""
   ]
  },
  {
   "cell_type": "code",
   "execution_count": 1,
   "id": "d1eddd99",
   "metadata": {},
   "outputs": [
    {
     "name": "stdout",
     "output_type": "stream",
     "text": [
      "Enter your age: 46\n",
      "Enter your gender/sex M or F : F\n",
      "Enter your marital status Y or N: N\n",
      "Urban areas\n"
     ]
    }
   ],
   "source": [
    "age=int(input(\"Enter your age: \"))\n",
    "gender=input(\"Enter your gender/sex M or F : \")\n",
    "marital_status=input(\"Enter your marital status Y or N: \")\n",
    "place_of_service=\"\"\n",
    "if(gender==\"F\"):\n",
    "    place_of_service=\"Urban areas\"\n",
    "    print(place_of_service)\n",
    "elif(20<=age<40 and gender==\"M\"):\n",
    "    place_of_service=\"Anywhere\"\n",
    "    print(place_of_service)\n",
    "elif(40<=age<60 and gender==\"M\"):\n",
    "    place_of_service=\"Urban areas only\"\n",
    "    print(place_of_service)\n",
    "else:\n",
    "    print(\"ERROR\")\n",
    "\n",
    "\n",
    "\n",
    "    "
   ]
  },
  {
   "cell_type": "markdown",
   "id": "7605d0c7",
   "metadata": {},
   "source": [
    "# 5] Take 10 integers from keyboard using loop and print their average value on the screen"
   ]
  },
  {
   "cell_type": "code",
   "execution_count": 8,
   "id": "445ca244",
   "metadata": {},
   "outputs": [
    {
     "name": "stdout",
     "output_type": "stream",
     "text": [
      "Enter number 1 :1\n",
      "Enter number 2 :2\n",
      "Enter number 3 :3\n",
      "Enter number 4 :4\n",
      "Enter number 5 :5\n",
      "Enter number 6 :6\n",
      "Enter number 7 :7\n",
      "Enter number 8 :8\n",
      "Enter number 9 :9\n",
      "Enter number 10 :10\n",
      "Average of Entered 10 numbers is:  5.5\n"
     ]
    }
   ],
   "source": [
    "sum=0\n",
    "for i in range(1,11):\n",
    "    num=int(input(\"Enter number \"+str(i)+\" :\"))\n",
    "    sum=sum+num\n",
    "avg=sum/10\n",
    "print(\"Average of Entered 10 numbers is: \",avg)"
   ]
  },
  {
   "cell_type": "markdown",
   "id": "3c5f3aad",
   "metadata": {},
   "source": [
    "# 6] Write a program to calculate factorial of a number"
   ]
  },
  {
   "cell_type": "code",
   "execution_count": 13,
   "id": "a5f4226e",
   "metadata": {},
   "outputs": [
    {
     "name": "stdout",
     "output_type": "stream",
     "text": [
      "Enter the number: 3\n",
      "Factorial of 3 is 6\n"
     ]
    }
   ],
   "source": [
    "number=int(input(\"Enter the number: \"))\n",
    "if(number==0):\n",
    "    fact=1\n",
    "fact=1\n",
    "for i in range(1,number+1):\n",
    "    fact=fact*i\n",
    "print(\"Factorial of\",number,\"is\",fact)\n",
    "    "
   ]
  },
  {
   "cell_type": "markdown",
   "id": "29dae404",
   "metadata": {},
   "source": [
    "# 7] Take integer inputs from user until he/she presses q ( Ask to press q to quit after every integer input ). Print average and product of all numbers."
   ]
  },
  {
   "cell_type": "code",
   "execution_count": 8,
   "id": "cf5654ee",
   "metadata": {},
   "outputs": [
    {
     "name": "stdout",
     "output_type": "stream",
     "text": [
      "Press q to quit after every integer input \n",
      "Enter integer: 5\n",
      "Enter integer: 6\n",
      "Enter integer: 2\n",
      "Enter integer: 1\n",
      "Enter integer: 0\n",
      "Enter integer: q\n",
      "Average Of All Entered Numbers 2.8 Product Of All Entered Numbers 0\n"
     ]
    }
   ],
   "source": [
    "print(\"Press q to quit after every integer input \")\n",
    "sum=0\n",
    "prod=1\n",
    "c=0\n",
    "while(1):\n",
    "    n=input(\"Enter integer: \")\n",
    "    if(n==\"q\"):\n",
    "        break\n",
    "    sum=sum+int(n)\n",
    "    prod=prod*int(n)\n",
    "    c=c+1\n",
    "    \n",
    "avg=sum/c\n",
    "print(\"Average Of All Entered Numbers\",avg,\"Product Of All Entered Numbers\",prod)"
   ]
  },
  {
   "cell_type": "markdown",
   "id": "3f58d4c7",
   "metadata": {},
   "source": [
    "# 8] A three digit number is called Armstrong number if sum of cube of its digit is equal to number itself Write all Armstrong numbers between 100 to 500."
   ]
  },
  {
   "cell_type": "code",
   "execution_count": 3,
   "id": "667ee505",
   "metadata": {},
   "outputs": [
    {
     "name": "stdout",
     "output_type": "stream",
     "text": [
      "Number 153 is Armstrong number\n",
      "Number 370 is Armstrong number\n",
      "Number 371 is Armstrong number\n",
      "Number 407 is Armstrong number\n"
     ]
    }
   ],
   "source": [
    "s=0\n",
    "n=100\n",
    "num=n\n",
    "while(num<=500):\n",
    "    n=num\n",
    "    s=0\n",
    "    while(n>0):\n",
    "        remainder=n%10\n",
    "        s=s+(remainder**3)\n",
    "        n=n//10\n",
    "    if(s==num):\n",
    "        print(\"Number \"+str(num)+\" is Armstrong number\")\n",
    "    num=num+1"
   ]
  },
  {
   "cell_type": "markdown",
   "id": "cab9c302",
   "metadata": {},
   "source": [
    "# 9] Write a program to find the length of the string \"refrigerator\" without using len function."
   ]
  },
  {
   "cell_type": "code",
   "execution_count": 9,
   "id": "b5e049ff",
   "metadata": {},
   "outputs": [
    {
     "name": "stdout",
     "output_type": "stream",
     "text": [
      "Length of string is:  12\n"
     ]
    }
   ],
   "source": [
    "u=0\n",
    "string=\"refrigerator\"\n",
    "for char in string:\n",
    "    u=u+1\n",
    "print(\"Length of string is: \",u)"
   ]
  },
  {
   "cell_type": "markdown",
   "id": "8a3f95b4",
   "metadata": {},
   "source": [
    "# 10] Write a program that takes your full name as input and displays the abbreviations of the first and middle names except the last name which is displayed as it is. For example, if your name is Robert Brett Roser, then the output should be R.B.Roser"
   ]
  },
  {
   "cell_type": "code",
   "execution_count": 1,
   "id": "5e2d4f16",
   "metadata": {},
   "outputs": [
    {
     "name": "stdout",
     "output_type": "stream",
     "text": [
      "Enter your full name: Shraddha Manoj Gujar\n",
      "S.M.Gujar\n"
     ]
    }
   ],
   "source": [
    "full_name=input(\"Enter your full name: \")\n",
    "n=full_name.split(\" \")\n",
    "f=n[0]\n",
    "f=f[0]\n",
    "m=n[1]\n",
    "m=m[0]\n",
    "l=n[2]\n",
    "print(str(f)+\".\"+str(m)+\".\"+str(l))"
   ]
  }
 ],
 "metadata": {
  "kernelspec": {
   "display_name": "Python 3",
   "language": "python",
   "name": "python3"
  },
  "language_info": {
   "codemirror_mode": {
    "name": "ipython",
    "version": 3
   },
   "file_extension": ".py",
   "mimetype": "text/x-python",
   "name": "python",
   "nbconvert_exporter": "python",
   "pygments_lexer": "ipython3",
   "version": "3.8.8"
  }
 },
 "nbformat": 4,
 "nbformat_minor": 5
}
